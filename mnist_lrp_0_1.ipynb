{
  "cells": [
    {
      "cell_type": "code",
      "execution_count": null,
      "metadata": {
        "colab": {
          "base_uri": "https://localhost:8080/"
        },
        "id": "hspvkHBPFLOe",
        "outputId": "9a58658c-7990-4d0b-e811-a33010d93be1"
      },
      "outputs": [
        {
          "name": "stdout",
          "output_type": "stream",
          "text": [
            "CUDA is available!  Training on GPU ...\n"
          ]
        }
      ],
      "source": [
        "import torch\n",
        "import numpy as np\n",
        "\n",
        "# check if CUDA is available\n",
        "train_on_gpu = torch.cuda.is_available()\n",
        "\n",
        "if not train_on_gpu:\n",
        "    print('CUDA is not available.  Training on CPU ...')\n",
        "else:\n",
        "    print('CUDA is available!  Training on GPU ...')"
      ]
    },
    {
      "cell_type": "code",
      "execution_count": null,
      "metadata": {
        "colab": {
          "base_uri": "https://localhost:8080/"
        },
        "id": "lx7e4ADDmq9a",
        "outputId": "9aa1f917-2c98-4104-df76-ab5bb105bcb4"
      },
      "outputs": [
        {
          "name": "stdout",
          "output_type": "stream",
          "text": [
            "Downloading http://yann.lecun.com/exdb/mnist/train-images-idx3-ubyte.gz\n",
            "Downloading http://yann.lecun.com/exdb/mnist/train-images-idx3-ubyte.gz to data/MNIST/raw/train-images-idx3-ubyte.gz\n"
          ]
        },
        {
          "name": "stderr",
          "output_type": "stream",
          "text": [
            "100%|██████████| 9912422/9912422 [00:00<00:00, 70307982.16it/s]\n"
          ]
        },
        {
          "name": "stdout",
          "output_type": "stream",
          "text": [
            "Extracting data/MNIST/raw/train-images-idx3-ubyte.gz to data/MNIST/raw\n",
            "\n",
            "Downloading http://yann.lecun.com/exdb/mnist/train-labels-idx1-ubyte.gz\n",
            "Downloading http://yann.lecun.com/exdb/mnist/train-labels-idx1-ubyte.gz to data/MNIST/raw/train-labels-idx1-ubyte.gz\n"
          ]
        },
        {
          "name": "stderr",
          "output_type": "stream",
          "text": [
            "100%|██████████| 28881/28881 [00:00<00:00, 68399601.26it/s]\n"
          ]
        },
        {
          "name": "stdout",
          "output_type": "stream",
          "text": [
            "Extracting data/MNIST/raw/train-labels-idx1-ubyte.gz to data/MNIST/raw\n",
            "\n",
            "Downloading http://yann.lecun.com/exdb/mnist/t10k-images-idx3-ubyte.gz\n",
            "Downloading http://yann.lecun.com/exdb/mnist/t10k-images-idx3-ubyte.gz to data/MNIST/raw/t10k-images-idx3-ubyte.gz\n"
          ]
        },
        {
          "name": "stderr",
          "output_type": "stream",
          "text": [
            "100%|██████████| 1648877/1648877 [00:00<00:00, 33380270.76it/s]\n"
          ]
        },
        {
          "name": "stdout",
          "output_type": "stream",
          "text": [
            "Extracting data/MNIST/raw/t10k-images-idx3-ubyte.gz to data/MNIST/raw\n",
            "\n",
            "Downloading http://yann.lecun.com/exdb/mnist/t10k-labels-idx1-ubyte.gz\n",
            "Downloading http://yann.lecun.com/exdb/mnist/t10k-labels-idx1-ubyte.gz to data/MNIST/raw/t10k-labels-idx1-ubyte.gz\n"
          ]
        },
        {
          "name": "stderr",
          "output_type": "stream",
          "text": [
            "100%|██████████| 4542/4542 [00:00<00:00, 20053188.18it/s]"
          ]
        },
        {
          "name": "stdout",
          "output_type": "stream",
          "text": [
            "Extracting data/MNIST/raw/t10k-labels-idx1-ubyte.gz to data/MNIST/raw\n",
            "\n"
          ]
        },
        {
          "name": "stderr",
          "output_type": "stream",
          "text": [
            "\n"
          ]
        }
      ],
      "source": [
        "import torch\n",
        "import torch.nn as nn\n",
        "import torch.optim as optim\n",
        "import torch.nn.functional as F\n",
        "import torchvision.transforms as transforms\n",
        "from torchvision.datasets import MNIST\n",
        "from torch.utils.data import DataLoader, random_split\n",
        "import numpy as np\n",
        "import matplotlib.pyplot as plt\n",
        "\n",
        "# Step 1: Load and Prepare the MNIST Dataset\n",
        "transform = transforms.Compose([transforms.ToTensor(),\n",
        "                                transforms.Normalize((0.5,), (0.5,))])\n",
        "\n",
        "# Load MNIST dataset\n",
        "full_train_data = MNIST(root='data', train=True, download=True, transform=transform)\n",
        "test_data = MNIST(root='data', train=False, download=True, transform=transform)\n",
        "\n",
        "# Split full training data into training and validation\n",
        "train_size = int(0.8 * len(full_train_data))\n",
        "valid_size = len(full_train_data) - train_size\n",
        "train_data, valid_data = random_split(full_train_data, [train_size, valid_size])\n",
        "\n",
        "# Create data loaders\n",
        "train_loader = DataLoader(train_data, batch_size=64, shuffle=True)\n",
        "valid_loader = DataLoader(valid_data, batch_size=64, shuffle=True)\n",
        "test_loader = DataLoader(test_data, batch_size=64, shuffle=False)\n",
        "\n",
        "\n",
        "\n",
        "\n",
        "\n"
      ]
    },
    {
      "cell_type": "code",
      "execution_count": null,
      "metadata": {
        "id": "P_2xTMpPmq9b"
      },
      "outputs": [],
      "source": [
        "# Step 2: Define the Deep Neural Network Model\n",
        "class DeepNN(nn.Module):\n",
        "    def __init__(self):\n",
        "        super(DeepNN, self).__init__()\n",
        "        self.fc1 = nn.Linear(28*28, 512)\n",
        "        # self.fc2 = nn.Linear(512, 256)\n",
        "        self.fc3 = nn.Linear(512, 128)\n",
        "        self.fc4 = nn.Linear(128, 64)\n",
        "        self.fc5 = nn.Linear(64, 10)\n",
        "        self.dropout = nn.Dropout(0.2)\n",
        "\n",
        "    def forward(self, x):\n",
        "        x = x.view(-1, 28*28)  # Flatten the images\n",
        "        x = self.dropout(F.relu(self.fc1(x)))\n",
        "        # x = self.dropout(F.relu(self.fc2(x)))\n",
        "        x = self.dropout(F.relu(self.fc3(x)))\n",
        "        x = self.dropout(F.relu(self.fc4(x)))\n",
        "        x = self.fc5(x)\n",
        "        return x\n",
        "\n",
        "# Initialize the network\n",
        "model = DeepNN()\n",
        "\n",
        "# Step 3: Define the Loss Function and Optimizer\n",
        "criterion = nn.CrossEntropyLoss()\n",
        "optimizer = optim.Adam(model.parameters(), lr=0.001)\n",
        "if train_on_gpu:\n",
        "  model.cuda()"
      ]
    },
    {
      "cell_type": "code",
      "execution_count": null,
      "metadata": {
        "id": "ThnjORhZmq9c",
        "outputId": "af20780f-794e-490f-f66c-0d8e2ffa86c0"
      },
      "outputs": [
        {
          "name": "stdout",
          "output_type": "stream",
          "text": [
            "Epoch 1/50 \t Training Loss: 0.4932 \t Validation Loss: 0.1925\n",
            "Epoch 2/50 \t Training Loss: 0.2341 \t Validation Loss: 0.1670\n",
            "Epoch 3/50 \t Training Loss: 0.1876 \t Validation Loss: 0.1301\n",
            "Epoch 4/50 \t Training Loss: 0.1612 \t Validation Loss: 0.1190\n",
            "Epoch 5/50 \t Training Loss: 0.1441 \t Validation Loss: 0.1133\n"
          ]
        },
        {
          "ename": "KeyboardInterrupt",
          "evalue": "",
          "output_type": "error",
          "traceback": [
            "\u001b[0;31m---------------------------------------------------------------------------\u001b[0m",
            "\u001b[0;31mKeyboardInterrupt\u001b[0m                         Traceback (most recent call last)",
            "Cell \u001b[0;32mIn[9], line 71\u001b[0m\n\u001b[1;32m     69\u001b[0m \u001b[38;5;66;03m# Run the training and testing\u001b[39;00m\n\u001b[1;32m     70\u001b[0m num_epochs \u001b[38;5;241m=\u001b[39m \u001b[38;5;241m50\u001b[39m\n\u001b[0;32m---> 71\u001b[0m valid_losses\u001b[38;5;241m=\u001b[39m\u001b[43mtrain_model\u001b[49m\u001b[43m(\u001b[49m\u001b[43mnum_epochs\u001b[49m\u001b[43m)\u001b[49m\n\u001b[1;32m     72\u001b[0m test_model()\n",
            "Cell \u001b[0;32mIn[9], line 8\u001b[0m, in \u001b[0;36mtrain_model\u001b[0;34m(num_epochs)\u001b[0m\n\u001b[1;32m      6\u001b[0m train_loss \u001b[38;5;241m=\u001b[39m \u001b[38;5;241m0.0\u001b[39m\n\u001b[1;32m      7\u001b[0m model\u001b[38;5;241m.\u001b[39mtrain()\n\u001b[0;32m----> 8\u001b[0m \u001b[43m\u001b[49m\u001b[38;5;28;43;01mfor\u001b[39;49;00m\u001b[43m \u001b[49m\u001b[43mimages\u001b[49m\u001b[43m,\u001b[49m\u001b[43m \u001b[49m\u001b[43mlabels\u001b[49m\u001b[43m \u001b[49m\u001b[38;5;129;43;01min\u001b[39;49;00m\u001b[43m \u001b[49m\u001b[43mtrain_loader\u001b[49m\u001b[43m:\u001b[49m\n\u001b[1;32m      9\u001b[0m \u001b[43m    \u001b[49m\u001b[38;5;28;43;01mif\u001b[39;49;00m\u001b[43m \u001b[49m\u001b[43mtrain_on_gpu\u001b[49m\u001b[43m:\u001b[49m\n\u001b[1;32m     10\u001b[0m \u001b[43m        \u001b[49m\u001b[43mimages\u001b[49m\u001b[43m,\u001b[49m\u001b[43m \u001b[49m\u001b[43mlabels\u001b[49m\u001b[43m \u001b[49m\u001b[38;5;241;43m=\u001b[39;49m\u001b[43m \u001b[49m\u001b[43mimages\u001b[49m\u001b[38;5;241;43m.\u001b[39;49m\u001b[43mcuda\u001b[49m\u001b[43m(\u001b[49m\u001b[43m)\u001b[49m\u001b[43m,\u001b[49m\u001b[43m \u001b[49m\u001b[43mlabels\u001b[49m\u001b[38;5;241;43m.\u001b[39;49m\u001b[43mcuda\u001b[49m\u001b[43m(\u001b[49m\u001b[43m)\u001b[49m\n",
            "File \u001b[0;32m~/.local/lib/python3.11/site-packages/torch/utils/data/dataloader.py:630\u001b[0m, in \u001b[0;36m_BaseDataLoaderIter.__next__\u001b[0;34m(self)\u001b[0m\n\u001b[1;32m    627\u001b[0m \u001b[38;5;28;01mif\u001b[39;00m \u001b[38;5;28mself\u001b[39m\u001b[38;5;241m.\u001b[39m_sampler_iter \u001b[38;5;129;01mis\u001b[39;00m \u001b[38;5;28;01mNone\u001b[39;00m:\n\u001b[1;32m    628\u001b[0m     \u001b[38;5;66;03m# TODO(https://github.com/pytorch/pytorch/issues/76750)\u001b[39;00m\n\u001b[1;32m    629\u001b[0m     \u001b[38;5;28mself\u001b[39m\u001b[38;5;241m.\u001b[39m_reset()  \u001b[38;5;66;03m# type: ignore[call-arg]\u001b[39;00m\n\u001b[0;32m--> 630\u001b[0m data \u001b[38;5;241m=\u001b[39m \u001b[38;5;28;43mself\u001b[39;49m\u001b[38;5;241;43m.\u001b[39;49m\u001b[43m_next_data\u001b[49m\u001b[43m(\u001b[49m\u001b[43m)\u001b[49m\n\u001b[1;32m    631\u001b[0m \u001b[38;5;28mself\u001b[39m\u001b[38;5;241m.\u001b[39m_num_yielded \u001b[38;5;241m+\u001b[39m\u001b[38;5;241m=\u001b[39m \u001b[38;5;241m1\u001b[39m\n\u001b[1;32m    632\u001b[0m \u001b[38;5;28;01mif\u001b[39;00m \u001b[38;5;28mself\u001b[39m\u001b[38;5;241m.\u001b[39m_dataset_kind \u001b[38;5;241m==\u001b[39m _DatasetKind\u001b[38;5;241m.\u001b[39mIterable \u001b[38;5;129;01mand\u001b[39;00m \\\n\u001b[1;32m    633\u001b[0m         \u001b[38;5;28mself\u001b[39m\u001b[38;5;241m.\u001b[39m_IterableDataset_len_called \u001b[38;5;129;01mis\u001b[39;00m \u001b[38;5;129;01mnot\u001b[39;00m \u001b[38;5;28;01mNone\u001b[39;00m \u001b[38;5;129;01mand\u001b[39;00m \\\n\u001b[1;32m    634\u001b[0m         \u001b[38;5;28mself\u001b[39m\u001b[38;5;241m.\u001b[39m_num_yielded \u001b[38;5;241m>\u001b[39m \u001b[38;5;28mself\u001b[39m\u001b[38;5;241m.\u001b[39m_IterableDataset_len_called:\n",
            "File \u001b[0;32m~/.local/lib/python3.11/site-packages/torch/utils/data/dataloader.py:674\u001b[0m, in \u001b[0;36m_SingleProcessDataLoaderIter._next_data\u001b[0;34m(self)\u001b[0m\n\u001b[1;32m    672\u001b[0m \u001b[38;5;28;01mdef\u001b[39;00m \u001b[38;5;21m_next_data\u001b[39m(\u001b[38;5;28mself\u001b[39m):\n\u001b[1;32m    673\u001b[0m     index \u001b[38;5;241m=\u001b[39m \u001b[38;5;28mself\u001b[39m\u001b[38;5;241m.\u001b[39m_next_index()  \u001b[38;5;66;03m# may raise StopIteration\u001b[39;00m\n\u001b[0;32m--> 674\u001b[0m     data \u001b[38;5;241m=\u001b[39m \u001b[38;5;28;43mself\u001b[39;49m\u001b[38;5;241;43m.\u001b[39;49m\u001b[43m_dataset_fetcher\u001b[49m\u001b[38;5;241;43m.\u001b[39;49m\u001b[43mfetch\u001b[49m\u001b[43m(\u001b[49m\u001b[43mindex\u001b[49m\u001b[43m)\u001b[49m  \u001b[38;5;66;03m# may raise StopIteration\u001b[39;00m\n\u001b[1;32m    675\u001b[0m     \u001b[38;5;28;01mif\u001b[39;00m \u001b[38;5;28mself\u001b[39m\u001b[38;5;241m.\u001b[39m_pin_memory:\n\u001b[1;32m    676\u001b[0m         data \u001b[38;5;241m=\u001b[39m _utils\u001b[38;5;241m.\u001b[39mpin_memory\u001b[38;5;241m.\u001b[39mpin_memory(data, \u001b[38;5;28mself\u001b[39m\u001b[38;5;241m.\u001b[39m_pin_memory_device)\n",
            "File \u001b[0;32m~/.local/lib/python3.11/site-packages/torch/utils/data/_utils/fetch.py:49\u001b[0m, in \u001b[0;36m_MapDatasetFetcher.fetch\u001b[0;34m(self, possibly_batched_index)\u001b[0m\n\u001b[1;32m     47\u001b[0m \u001b[38;5;28;01mif\u001b[39;00m \u001b[38;5;28mself\u001b[39m\u001b[38;5;241m.\u001b[39mauto_collation:\n\u001b[1;32m     48\u001b[0m     \u001b[38;5;28;01mif\u001b[39;00m \u001b[38;5;28mhasattr\u001b[39m(\u001b[38;5;28mself\u001b[39m\u001b[38;5;241m.\u001b[39mdataset, \u001b[38;5;124m\"\u001b[39m\u001b[38;5;124m__getitems__\u001b[39m\u001b[38;5;124m\"\u001b[39m) \u001b[38;5;129;01mand\u001b[39;00m \u001b[38;5;28mself\u001b[39m\u001b[38;5;241m.\u001b[39mdataset\u001b[38;5;241m.\u001b[39m__getitems__:\n\u001b[0;32m---> 49\u001b[0m         data \u001b[38;5;241m=\u001b[39m \u001b[38;5;28;43mself\u001b[39;49m\u001b[38;5;241;43m.\u001b[39;49m\u001b[43mdataset\u001b[49m\u001b[38;5;241;43m.\u001b[39;49m\u001b[43m__getitems__\u001b[49m\u001b[43m(\u001b[49m\u001b[43mpossibly_batched_index\u001b[49m\u001b[43m)\u001b[49m\n\u001b[1;32m     50\u001b[0m     \u001b[38;5;28;01melse\u001b[39;00m:\n\u001b[1;32m     51\u001b[0m         data \u001b[38;5;241m=\u001b[39m [\u001b[38;5;28mself\u001b[39m\u001b[38;5;241m.\u001b[39mdataset[idx] \u001b[38;5;28;01mfor\u001b[39;00m idx \u001b[38;5;129;01min\u001b[39;00m possibly_batched_index]\n",
            "File \u001b[0;32m~/.local/lib/python3.11/site-packages/torch/utils/data/dataset.py:364\u001b[0m, in \u001b[0;36mSubset.__getitems__\u001b[0;34m(self, indices)\u001b[0m\n\u001b[1;32m    362\u001b[0m     \u001b[38;5;28;01mreturn\u001b[39;00m \u001b[38;5;28mself\u001b[39m\u001b[38;5;241m.\u001b[39mdataset\u001b[38;5;241m.\u001b[39m__getitems__([\u001b[38;5;28mself\u001b[39m\u001b[38;5;241m.\u001b[39mindices[idx] \u001b[38;5;28;01mfor\u001b[39;00m idx \u001b[38;5;129;01min\u001b[39;00m indices])  \u001b[38;5;66;03m# type: ignore[attr-defined]\u001b[39;00m\n\u001b[1;32m    363\u001b[0m \u001b[38;5;28;01melse\u001b[39;00m:\n\u001b[0;32m--> 364\u001b[0m     \u001b[38;5;28;01mreturn\u001b[39;00m \u001b[43m[\u001b[49m\u001b[38;5;28;43mself\u001b[39;49m\u001b[38;5;241;43m.\u001b[39;49m\u001b[43mdataset\u001b[49m\u001b[43m[\u001b[49m\u001b[38;5;28;43mself\u001b[39;49m\u001b[38;5;241;43m.\u001b[39;49m\u001b[43mindices\u001b[49m\u001b[43m[\u001b[49m\u001b[43midx\u001b[49m\u001b[43m]\u001b[49m\u001b[43m]\u001b[49m\u001b[43m \u001b[49m\u001b[38;5;28;43;01mfor\u001b[39;49;00m\u001b[43m \u001b[49m\u001b[43midx\u001b[49m\u001b[43m \u001b[49m\u001b[38;5;129;43;01min\u001b[39;49;00m\u001b[43m \u001b[49m\u001b[43mindices\u001b[49m\u001b[43m]\u001b[49m\n",
            "File \u001b[0;32m~/.local/lib/python3.11/site-packages/torch/utils/data/dataset.py:364\u001b[0m, in \u001b[0;36m<listcomp>\u001b[0;34m(.0)\u001b[0m\n\u001b[1;32m    362\u001b[0m     \u001b[38;5;28;01mreturn\u001b[39;00m \u001b[38;5;28mself\u001b[39m\u001b[38;5;241m.\u001b[39mdataset\u001b[38;5;241m.\u001b[39m__getitems__([\u001b[38;5;28mself\u001b[39m\u001b[38;5;241m.\u001b[39mindices[idx] \u001b[38;5;28;01mfor\u001b[39;00m idx \u001b[38;5;129;01min\u001b[39;00m indices])  \u001b[38;5;66;03m# type: ignore[attr-defined]\u001b[39;00m\n\u001b[1;32m    363\u001b[0m \u001b[38;5;28;01melse\u001b[39;00m:\n\u001b[0;32m--> 364\u001b[0m     \u001b[38;5;28;01mreturn\u001b[39;00m [\u001b[38;5;28;43mself\u001b[39;49m\u001b[38;5;241;43m.\u001b[39;49m\u001b[43mdataset\u001b[49m\u001b[43m[\u001b[49m\u001b[38;5;28;43mself\u001b[39;49m\u001b[38;5;241;43m.\u001b[39;49m\u001b[43mindices\u001b[49m\u001b[43m[\u001b[49m\u001b[43midx\u001b[49m\u001b[43m]\u001b[49m\u001b[43m]\u001b[49m \u001b[38;5;28;01mfor\u001b[39;00m idx \u001b[38;5;129;01min\u001b[39;00m indices]\n",
            "File \u001b[0;32m~/.local/lib/python3.11/site-packages/torchvision/datasets/mnist.py:138\u001b[0m, in \u001b[0;36mMNIST.__getitem__\u001b[0;34m(self, index)\u001b[0m\n\u001b[1;32m    130\u001b[0m \u001b[38;5;28;01mdef\u001b[39;00m \u001b[38;5;21m__getitem__\u001b[39m(\u001b[38;5;28mself\u001b[39m, index: \u001b[38;5;28mint\u001b[39m) \u001b[38;5;241m-\u001b[39m\u001b[38;5;241m>\u001b[39m Tuple[Any, Any]:\n\u001b[1;32m    131\u001b[0m \u001b[38;5;250m    \u001b[39m\u001b[38;5;124;03m\"\"\"\u001b[39;00m\n\u001b[1;32m    132\u001b[0m \u001b[38;5;124;03m    Args:\u001b[39;00m\n\u001b[1;32m    133\u001b[0m \u001b[38;5;124;03m        index (int): Index\u001b[39;00m\n\u001b[0;32m   (...)\u001b[0m\n\u001b[1;32m    136\u001b[0m \u001b[38;5;124;03m        tuple: (image, target) where target is index of the target class.\u001b[39;00m\n\u001b[1;32m    137\u001b[0m \u001b[38;5;124;03m    \"\"\"\u001b[39;00m\n\u001b[0;32m--> 138\u001b[0m     img, target \u001b[38;5;241m=\u001b[39m \u001b[38;5;28mself\u001b[39m\u001b[38;5;241m.\u001b[39mdata[index], \u001b[38;5;28;43mint\u001b[39;49m\u001b[43m(\u001b[49m\u001b[38;5;28;43mself\u001b[39;49m\u001b[38;5;241;43m.\u001b[39;49m\u001b[43mtargets\u001b[49m\u001b[43m[\u001b[49m\u001b[43mindex\u001b[49m\u001b[43m]\u001b[49m\u001b[43m)\u001b[49m\n\u001b[1;32m    140\u001b[0m     \u001b[38;5;66;03m# doing this so that it is consistent with all other datasets\u001b[39;00m\n\u001b[1;32m    141\u001b[0m     \u001b[38;5;66;03m# to return a PIL Image\u001b[39;00m\n\u001b[1;32m    142\u001b[0m     img \u001b[38;5;241m=\u001b[39m Image\u001b[38;5;241m.\u001b[39mfromarray(img\u001b[38;5;241m.\u001b[39mnumpy(), mode\u001b[38;5;241m=\u001b[39m\u001b[38;5;124m\"\u001b[39m\u001b[38;5;124mL\u001b[39m\u001b[38;5;124m\"\u001b[39m)\n",
            "\u001b[0;31mKeyboardInterrupt\u001b[0m: "
          ]
        }
      ],
      "source": [
        "# Step 4: Train the Model\n",
        "def train_model(num_epochs):\n",
        "    train_losses = []  # List to store training losses\n",
        "    valid_losses = []\n",
        "    for epoch in range(num_epochs):\n",
        "        train_loss = 0.0\n",
        "        model.train()\n",
        "        for images, labels in train_loader:\n",
        "            if train_on_gpu:\n",
        "                images, labels = images.cuda(), labels.cuda()\n",
        "            optimizer.zero_grad()\n",
        "            outputs = model(images)\n",
        "            loss = criterion(outputs, labels)\n",
        "            loss.backward()\n",
        "            optimizer.step()\n",
        "            train_loss += loss.item() * images.size(0)\n",
        "\n",
        "        # Validation\n",
        "        valid_loss = 0.0\n",
        "        model.eval()\n",
        "        with torch.no_grad():\n",
        "            for images, labels in valid_loader:\n",
        "                if train_on_gpu:\n",
        "                    images, labels = images.cuda(), labels.cuda()\n",
        "                outputs = model(images)\n",
        "                loss = criterion(outputs, labels)\n",
        "                valid_loss += loss.item() * images.size(0)\n",
        "\n",
        "        # Calculate average losses\n",
        "        train_loss = train_loss / len(train_loader.dataset)\n",
        "        valid_loss = valid_loss / len(valid_loader.dataset)\n",
        "\n",
        "        # Append the losses to the lists\n",
        "        train_losses.append(train_loss)\n",
        "        valid_losses.append(valid_loss)\n",
        "        # Print training and validation losses\n",
        "        print(f'Epoch {epoch+1}/{num_epochs} \\t Training Loss: {train_loss:.4f} \\t Validation Loss: {valid_loss:.4f}')\n",
        "    # Plot the training and validation losses\n",
        "    plt.plot(range(1, num_epochs+1), train_losses, label='Training Loss')\n",
        "    plt.plot(range(1, num_epochs+1), valid_losses, label='Validation Loss')\n",
        "    plt.xlabel(\"Epoch\")\n",
        "    plt.ylabel(\"Loss\")\n",
        "    plt.ylim(0, 1)  # Set y-axis limits\n",
        "    plt.title(\"Training and Validation Losses\")\n",
        "    plt.legend()\n",
        "    plt.show()\n",
        "\n",
        "# Step 5: Validate the Model (Included in Training Function)\n",
        "\n",
        "# Step 6: Test the Model\n",
        "def test_model():\n",
        "    test_loss = 0.0\n",
        "    correct = 0\n",
        "    total = 0\n",
        "    with torch.no_grad():\n",
        "        model.eval()\n",
        "        for images, labels in test_loader:\n",
        "            outputs = model(images)\n",
        "            loss = criterion(outputs, labels)\n",
        "            test_loss += loss.item() * images.size(0)\n",
        "            _, predicted = torch.max(outputs.data, 1)\n",
        "            total += labels.size(0)\n",
        "            correct += (predicted == labels).sum().item()\n",
        "\n",
        "    test_loss = test_loss / len(test_loader.dataset)\n",
        "    accuracy = (correct / total) * 100\n",
        "    print(f'Test Loss: {test_loss:.4f}, Test Accuracy: {accuracy:.2f}%')\n",
        "\n",
        "# Run the training and testing\n",
        "num_epochs = 50\n",
        "valid_losses=train_model(num_epochs)\n",
        "test_model()\n"
      ]
    },
    {
      "cell_type": "code",
      "execution_count": null,
      "metadata": {
        "id": "lMnXtXxamq9d"
      },
      "outputs": [],
      "source": [
        "import copy\n",
        "import torch.nn as nn\n",
        "import torch.nn.functional as F\n",
        "\n",
        "def newlayer(layer, g):\n",
        "    \"\"\"Clone a layer and pass its parameters through the function g.\"\"\"\n",
        "    layer = copy.deepcopy(layer)\n",
        "    if isinstance(layer, torch.nn.MaxPool2d):\n",
        "      return layer\n",
        "    else:\n",
        "      layer.weight = torch.nn.Parameter(g(layer.weight))\n",
        "      layer.bias = torch.nn.Parameter(g(layer.bias))\n",
        "      return layer"
      ]
    },
    {
      "cell_type": "code",
      "execution_count": null,
      "metadata": {
        "id": "CvmGRMeLmq9d"
      },
      "outputs": [],
      "source": [
        "class LRPDropout(nn.Module):\n",
        "    def __init__(self,dropoutrate=0.5):\n",
        "        super(LRPDropout, self).__init__()\n",
        "        self.mask = None\n",
        "        self.rate=dropoutrate\n",
        "\n",
        "    def forward(self, x):\n",
        "        if self.training:\n",
        "            if self.mask is None:\n",
        "              return x\n",
        "            # During training, apply dropout\n",
        "            # print(self.mask.shape,x.shape)\n",
        "            output = (x * self.mask )/ (1 - self.rate)\n",
        "        else:\n",
        "            # During evaluation, don't apply dropout\n",
        "            output = x\n",
        "        return output\n",
        "\n",
        "\n",
        "\n",
        "    def update_mask(self, lrp_values, percentile=50):\n",
        "        percentile=100 - self.rate*100\n",
        "        # calculate the threshold based on LRP values\n",
        "        threshold = np.percentile((torch.abs(lrp_values).cpu().numpy()), percentile)\n",
        "\n",
        "        # create a binary mask based on the threshold\n",
        "        self.mask = (torch.abs(lrp_values) < threshold).float().to(\"cuda\")\n",
        "        # print(self.mask)\n",
        "\n",
        "    def show_mask(self):\n",
        "        print(self.mask)"
      ]
    },
    {
      "cell_type": "code",
      "execution_count": null,
      "metadata": {
        "id": "jCS5jyIZmq9e"
      },
      "outputs": [],
      "source": [
        "# Step 2: Define the Deep Neural Network Model\n",
        "class DeepNN_LRP(nn.Module):\n",
        "    def __init__(self):\n",
        "        super(DeepNN_LRP, self).__init__()\n",
        "        self.fc1 = nn.Linear(28*28, 512)\n",
        "        self.dropout1= LRPDropout(0.1)\n",
        "        # self.fc2 = nn.Linear(512, 256)\n",
        "        self.fc3 = nn.Linear(512, 128)\n",
        "        self.dropout2= LRPDropout(0.1)\n",
        "        self.fc4 = nn.Linear(128, 64)\n",
        "        self.dropout3= LRPDropout(0.1)\n",
        "        self.fc5 = nn.Linear(64, 10)\n",
        "\n",
        "    def forward(self, x):\n",
        "        x = x.view(-1, 28*28)  # Flatten the images\n",
        "        x = self.dropout1(F.relu(self.fc1(x)))\n",
        "        # x = self.dropout(F.relu(self.fc2(x)))\n",
        "        x = self.dropout2(F.relu(self.fc3(x)))\n",
        "        x = self.dropout3(F.relu(self.fc4(x)))\n",
        "        x = self.fc5(x)\n",
        "        return x\n",
        "\n",
        "# Initialize the network\n",
        "modellrp = DeepNN_LRP()\n",
        "\n",
        "# Step 3: Define the Loss Function and Optimizer\n",
        "criterion = nn.CrossEntropyLoss()\n",
        "optimizer = optim.Adam(modellrp.parameters(), lr=0.001)\n",
        "\n",
        "if train_on_gpu:\n",
        "  modellrp.cuda()"
      ]
    },
    {
      "cell_type": "code",
      "execution_count": null,
      "metadata": {
        "id": "MKnbqMWcmq9e"
      },
      "outputs": [],
      "source": [
        "def LRP_individual(model, X, target, device):\n",
        "    model.eval()\n",
        "    # Get the list of layers of the network\n",
        "    layers = [module for module in model.modules() if not isinstance(module, torch.nn.Sequential)][1:]\n",
        "    # print(layers)\n",
        "    # Propagate the input\n",
        "    L = len(layers)\n",
        "    A = [X] + [X] * L # Create a list to store the activation produced by each layer\n",
        "    # print(layers)\n",
        "    # print(len(A),layers)\n",
        "    for layer in range(L):\n",
        "        # print(A[layer].shape,layers[layer])\n",
        "        # print(layers[layer])\n",
        "        # if isinstance(layers[layer],torch.nn.Linear):\n",
        "        #   # print(layers[layer])\n",
        "        #   A[layer]=A[layer].reshape(-1,1,layers[layer].in_features)\n",
        "        # print(A[layer].shape,layers[layer])\n",
        "        if isinstance(layers[layer], LRPDropout):\n",
        "          # print(A[layer].shape)\n",
        "          A[layer + 1] =A[layer]\n",
        "        else:\n",
        "          A[layer + 1] = layers[layer].forward(A[layer])\n",
        "\n",
        "    # Get the relevance of the last layer using the highest classification score of the top layer\n",
        "    T = A[-1].to(device)  # Remove .numpy().tolist()\n",
        "    index = target\n",
        "    # print(T.shape)\n",
        "    T = torch.abs(T) * 0\n",
        "    # print(T)\n",
        "    T[-1, index] = 1  # Modify to index the element directly\n",
        "    T = T.to(device)\n",
        "    # Create the list of relevances with (L + 1) elements and assign the value of the last one\n",
        "    R = [None] * L + [(A[-1] * T).data + 1e-6]\n",
        "    # print(\"hi\")\n",
        "     # Propagation procedure from the top-layer towards the lower layers\n",
        "    for layer in range(0, L)[::-1]:\n",
        "\n",
        "        if isinstance(layers[layer], torch.nn.Conv2d) or isinstance(layers[layer], torch.nn.Conv3d) \\\n",
        "                or isinstance(layers[layer],torch.nn.Linear) or isinstance(layers[layer],torch.nn.MaxPool2d) :\n",
        "\n",
        "\n",
        "            rho = lambda p: p\n",
        "\n",
        "            A[layer] = A[layer].data.requires_grad_(True).to(device)\n",
        "\n",
        "            # Step 1: Transform the weights of the layer and executes a forward pass\n",
        "            z = newlayer(layers[layer], rho)\n",
        "\n",
        "            z=z.forward(A[layer]) + 1e-9\n",
        "            # print(layers[layer],z.shape,A[layer].shape)\n",
        "            # print(z.shape,R[layer+1].shape,layers[layer],A[layer].shape)\n",
        "            # Step 2: Element-wise division between the relevance of the next layer and the denominator\n",
        "            # print(R[layer+1].shape, z.shape,layer+1)\n",
        "            s = (R[layer+1] / z).data\n",
        "            # print(s)\n",
        "            # Step 3: Calculate the gradient and multiply it by the activation layer\n",
        "            (z * s).sum().backward()\n",
        "            c = A[layer].grad\n",
        "            R[layer] = (A[layer] * c).cuda().data\n",
        "            # R[layer] = R[layer + 1]\n",
        "            # print(R)\n",
        "\n",
        "        else:\n",
        "            # print(layers[layer],\"else\")\n",
        "            R[layer] = R[layer + 1]\n",
        "        # if layer == 10:\n",
        "        #             # print(\"hi\")\n",
        "        #             R[layer] = R[layer].reshape(-1,512,4,4)\n",
        "    # Return the relevance of the all the layers\n",
        "    model.train()\n",
        "    return R\n"
      ]
    },
    {
      "cell_type": "code",
      "execution_count": null,
      "metadata": {
        "colab": {
          "background_save": true,
          "base_uri": "https://localhost:8080/"
        },
        "id": "R7ZBY_Wimq9f",
        "outputId": "67952e7c-4d06-4524-bbc4-ec2a5ee5f97c"
      },
      "outputs": [
        {
          "name": "stdout",
          "output_type": "stream",
          "text": [
            "Epoch 1/100 \t Training Loss: 0.4442 \t Validation Loss: 0.2387\n",
            "Epoch 2/100 \t Training Loss: 0.2034 \t Validation Loss: 0.1615\n",
            "Epoch 3/100 \t Training Loss: 0.1530 \t Validation Loss: 0.1227\n",
            "Epoch 4/100 \t Training Loss: 0.1227 \t Validation Loss: 0.1213\n",
            "Epoch 5/100 \t Training Loss: 0.1045 \t Validation Loss: 0.1089\n",
            "Epoch 6/100 \t Training Loss: 0.0906 \t Validation Loss: 0.1008\n",
            "Epoch 7/100 \t Training Loss: 0.0882 \t Validation Loss: 0.1244\n",
            "Epoch 8/100 \t Training Loss: 0.0807 \t Validation Loss: 0.1039\n",
            "Epoch 9/100 \t Training Loss: 0.0759 \t Validation Loss: 0.0928\n",
            "Epoch 10/100 \t Training Loss: 0.0684 \t Validation Loss: 0.0994\n",
            "Epoch 11/100 \t Training Loss: 0.0630 \t Validation Loss: 0.0741\n",
            "Epoch 12/100 \t Training Loss: 0.0614 \t Validation Loss: 0.0820\n",
            "Epoch 13/100 \t Training Loss: 0.0604 \t Validation Loss: 0.0822\n",
            "Epoch 14/100 \t Training Loss: 0.0541 \t Validation Loss: 0.0779\n",
            "Epoch 15/100 \t Training Loss: 0.0523 \t Validation Loss: 0.0822\n",
            "Epoch 16/100 \t Training Loss: 0.0511 \t Validation Loss: 0.0807\n",
            "Epoch 17/100 \t Training Loss: 0.0448 \t Validation Loss: 0.0849\n",
            "Epoch 18/100 \t Training Loss: 0.0470 \t Validation Loss: 0.0862\n",
            "Epoch 19/100 \t Training Loss: 0.0395 \t Validation Loss: 0.0825\n",
            "Epoch 20/100 \t Training Loss: 0.0456 \t Validation Loss: 0.0774\n",
            "Epoch 21/100 \t Training Loss: 0.0413 \t Validation Loss: 0.0928\n",
            "Epoch 22/100 \t Training Loss: 0.0357 \t Validation Loss: 0.0818\n",
            "Epoch 23/100 \t Training Loss: 0.0387 \t Validation Loss: 0.0820\n",
            "Epoch 24/100 \t Training Loss: 0.0350 \t Validation Loss: 0.1063\n",
            "Epoch 25/100 \t Training Loss: 0.0383 \t Validation Loss: 0.0953\n",
            "Epoch 26/100 \t Training Loss: 0.0363 \t Validation Loss: 0.0812\n",
            "Epoch 27/100 \t Training Loss: 0.0349 \t Validation Loss: 0.0747\n",
            "Epoch 28/100 \t Training Loss: 0.0332 \t Validation Loss: 0.0842\n",
            "Epoch 29/100 \t Training Loss: 0.0426 \t Validation Loss: 0.0980\n",
            "Epoch 30/100 \t Training Loss: 0.0388 \t Validation Loss: 0.0792\n",
            "Epoch 31/100 \t Training Loss: 0.0396 \t Validation Loss: 0.0789\n",
            "Epoch 32/100 \t Training Loss: 0.0370 \t Validation Loss: 0.0751\n",
            "Epoch 33/100 \t Training Loss: 0.0372 \t Validation Loss: 0.0758\n",
            "Epoch 34/100 \t Training Loss: 0.0369 \t Validation Loss: 0.0858\n",
            "Epoch 35/100 \t Training Loss: 0.0340 \t Validation Loss: 0.0848\n",
            "Epoch 36/100 \t Training Loss: 0.0428 \t Validation Loss: 0.0824\n",
            "Epoch 37/100 \t Training Loss: 0.0388 \t Validation Loss: 0.0850\n",
            "Epoch 38/100 \t Training Loss: 0.0414 \t Validation Loss: 0.0912\n",
            "Epoch 39/100 \t Training Loss: 0.0343 \t Validation Loss: 0.0905\n",
            "Epoch 40/100 \t Training Loss: 0.0335 \t Validation Loss: 0.0846\n",
            "Epoch 41/100 \t Training Loss: 0.0347 \t Validation Loss: 0.0934\n",
            "Epoch 42/100 \t Training Loss: 0.0356 \t Validation Loss: 0.0914\n",
            "Epoch 43/100 \t Training Loss: 0.0363 \t Validation Loss: 0.0901\n",
            "Epoch 44/100 \t Training Loss: 0.0353 \t Validation Loss: 0.0871\n",
            "Epoch 45/100 \t Training Loss: 0.0348 \t Validation Loss: 0.0866\n",
            "Epoch 46/100 \t Training Loss: 0.0321 \t Validation Loss: 0.0911\n",
            "Epoch 47/100 \t Training Loss: 0.0360 \t Validation Loss: 0.0849\n",
            "Epoch 48/100 \t Training Loss: 0.0346 \t Validation Loss: 0.1016\n",
            "Epoch 49/100 \t Training Loss: 0.0353 \t Validation Loss: 0.0950\n",
            "Epoch 50/100 \t Training Loss: 0.0283 \t Validation Loss: 0.0765\n",
            "Epoch 51/100 \t Training Loss: 0.0361 \t Validation Loss: 0.0808\n",
            "Epoch 52/100 \t Training Loss: 0.0328 \t Validation Loss: 0.0851\n",
            "Epoch 53/100 \t Training Loss: 0.0314 \t Validation Loss: 0.0847\n",
            "Epoch 54/100 \t Training Loss: 0.0356 \t Validation Loss: 0.0803\n",
            "Epoch 55/100 \t Training Loss: 0.0320 \t Validation Loss: 0.0912\n",
            "Epoch 56/100 \t Training Loss: 0.0371 \t Validation Loss: 0.0890\n",
            "Epoch 57/100 \t Training Loss: 0.0316 \t Validation Loss: 0.0839\n",
            "Epoch 58/100 \t Training Loss: 0.0334 \t Validation Loss: 0.1124\n",
            "Epoch 59/100 \t Training Loss: 0.0319 \t Validation Loss: 0.1019\n",
            "Epoch 60/100 \t Training Loss: 0.0329 \t Validation Loss: 0.0793\n",
            "Epoch 61/100 \t Training Loss: 0.0286 \t Validation Loss: 0.0921\n",
            "Epoch 62/100 \t Training Loss: 0.0336 \t Validation Loss: 0.0894\n",
            "Epoch 63/100 \t Training Loss: 0.0361 \t Validation Loss: 0.1019\n",
            "Epoch 64/100 \t Training Loss: 0.0346 \t Validation Loss: 0.0966\n",
            "Epoch 65/100 \t Training Loss: 0.0338 \t Validation Loss: 0.0927\n",
            "Epoch 66/100 \t Training Loss: 0.0310 \t Validation Loss: 0.0906\n",
            "Epoch 67/100 \t Training Loss: 0.0310 \t Validation Loss: 0.0920\n",
            "Epoch 68/100 \t Training Loss: 0.0304 \t Validation Loss: 0.0899\n",
            "Epoch 69/100 \t Training Loss: 0.0280 \t Validation Loss: 0.0877\n",
            "Epoch 70/100 \t Training Loss: 0.0330 \t Validation Loss: 0.0925\n",
            "Epoch 71/100 \t Training Loss: 0.0305 \t Validation Loss: 0.0901\n",
            "Epoch 72/100 \t Training Loss: 0.0272 \t Validation Loss: 0.0996\n",
            "Epoch 73/100 \t Training Loss: 0.0310 \t Validation Loss: 0.0917\n",
            "Epoch 74/100 \t Training Loss: 0.0305 \t Validation Loss: 0.0952\n",
            "Epoch 75/100 \t Training Loss: 0.0311 \t Validation Loss: 0.1001\n",
            "Epoch 76/100 \t Training Loss: 0.0316 \t Validation Loss: 0.0952\n",
            "Epoch 77/100 \t Training Loss: 0.0337 \t Validation Loss: 0.0854\n",
            "Epoch 78/100 \t Training Loss: 0.0305 \t Validation Loss: 0.0863\n",
            "Epoch 79/100 \t Training Loss: 0.0270 \t Validation Loss: 0.0951\n",
            "Epoch 80/100 \t Training Loss: 0.0281 \t Validation Loss: 0.0905\n",
            "Epoch 81/100 \t Training Loss: 0.0248 \t Validation Loss: 0.1012\n",
            "Epoch 82/100 \t Training Loss: 0.0295 \t Validation Loss: 0.1023\n",
            "Epoch 83/100 \t Training Loss: 0.0278 \t Validation Loss: 0.0967\n",
            "Epoch 84/100 \t Training Loss: 0.0288 \t Validation Loss: 0.0782\n",
            "Epoch 85/100 \t Training Loss: 0.0256 \t Validation Loss: 0.0945\n",
            "Epoch 86/100 \t Training Loss: 0.0271 \t Validation Loss: 0.0843\n",
            "Epoch 87/100 \t Training Loss: 0.0280 \t Validation Loss: 0.0922\n",
            "Epoch 88/100 \t Training Loss: 0.0271 \t Validation Loss: 0.1216\n",
            "Epoch 89/100 \t Training Loss: 0.0243 \t Validation Loss: 0.0955\n",
            "Epoch 90/100 \t Training Loss: 0.0291 \t Validation Loss: 0.1092\n",
            "Epoch 91/100 \t Training Loss: 0.0291 \t Validation Loss: 0.0802\n",
            "Epoch 92/100 \t Training Loss: 0.0242 \t Validation Loss: 0.0959\n",
            "Epoch 93/100 \t Training Loss: 0.0274 \t Validation Loss: 0.0949\n",
            "Epoch 94/100 \t Training Loss: 0.0303 \t Validation Loss: 0.1129\n",
            "Epoch 95/100 \t Training Loss: 0.0267 \t Validation Loss: 0.1056\n",
            "Epoch 96/100 \t Training Loss: 0.0253 \t Validation Loss: 0.0972\n",
            "Epoch 97/100 \t Training Loss: 0.0246 \t Validation Loss: 0.0973\n",
            "Epoch 98/100 \t Training Loss: 0.0256 \t Validation Loss: 0.1010\n",
            "Epoch 99/100 \t Training Loss: 0.0234 \t Validation Loss: 0.1019\n",
            "Epoch 100/100 \t Training Loss: 0.0239 \t Validation Loss: 0.0982\n"
          ]
        },
        {
          "data": {
            "image/png": "[encoded data removed]",
            "text/plain": [
              "<Figure size 640x480 with 1 Axes>"
            ]
          },
          "metadata": {},
          "output_type": "display_data"
        }
      ],
      "source": [
        "\n",
        "# Step 4: Train the Model\n",
        "def train_modellrp(num_epochs,model):\n",
        "    train_losses = []  # List to store training losses\n",
        "    valid_losses = []\n",
        "    for epoch in range(num_epochs):\n",
        "        train_loss = 0.0\n",
        "        model.train()\n",
        "        for images, labels in train_loader:\n",
        "            # print(images.size())\n",
        "            if train_on_gpu:\n",
        "                images, labels = images.cuda(), labels.cuda()\n",
        "            optimizer.zero_grad()\n",
        "            outputs = model(images)\n",
        "            loss = criterion(outputs, labels)\n",
        "            loss.backward()\n",
        "            optimizer.step()\n",
        "            train_loss += loss.item() * images.size(0)\n",
        "            Rel = LRP_individual(modellrp, images.reshape(-1,28*28).float().to(\"cuda\"),labels,device=\"cuda\")\n",
        "            # [print(tensor.shape,end=\"...\") for tensor in Rel]\n",
        "            # print()\n",
        "            avg_tensor=torch.tensor([])\n",
        "            for i in range(len(Rel)):\n",
        "                if(len(avg_tensor)==0):\n",
        "                    avg_tensor=Rel\n",
        "                    for j in range(len(Rel)):\n",
        "                        avg_tensor[j] = torch.mean(Rel[j], dim=0)\n",
        "            avg_tensor[i] = torch.mean(Rel[i], dim=0)\n",
        "            # [print(tensor.shape,end=\"...\") for tensor in avg_tensor]\n",
        "            modellrp.dropout1.update_mask(avg_tensor[1])\n",
        "            modellrp.dropout2.update_mask(avg_tensor[3])\n",
        "            # # print(\"Hi\")\n",
        "            modellrp.dropout3.update_mask(avg_tensor[5])\n",
        "            # Validation\n",
        "        valid_loss = 0.0\n",
        "        model.eval()\n",
        "        with torch.no_grad():\n",
        "            for images, labels in valid_loader:\n",
        "                if train_on_gpu:\n",
        "                    images, labels = images.cuda(), labels.cuda()\n",
        "                outputs = model(images)\n",
        "                loss = criterion(outputs, labels)\n",
        "                valid_loss += loss.item() * images.size(0)\n",
        "\n",
        "        # Calculate average losses\n",
        "        train_loss = train_loss / len(train_loader.dataset)\n",
        "        valid_loss = valid_loss / len(valid_loader.dataset)\n",
        "\n",
        "        # Append the losses to the lists\n",
        "        train_losses.append(train_loss)\n",
        "        valid_losses.append(valid_loss)\n",
        "        # Print training and validation losses\n",
        "        print(f'Epoch {epoch+1}/{num_epochs} \\t Training Loss: {train_loss:.4f} \\t Validation Loss: {valid_loss:.4f}')\n",
        "    # Plot the training and validation losses\n",
        "    plt.plot(range(1, num_epochs+1), train_losses, label='Training Loss')\n",
        "    plt.plot(range(1, num_epochs+1), valid_losses, label='Validation Loss')\n",
        "    plt.xlabel(\"Epoch\")\n",
        "    plt.ylabel(\"Loss\")\n",
        "    plt.ylim(0, 1)  # Set y-axis limits\n",
        "    plt.title(\"Training and Validation Losses\")\n",
        "    plt.legend()\n",
        "    plt.show()\n",
        "\n",
        "\n",
        "# Run the training and testing\n",
        "num_epochs = 100\n",
        "train_modellrp(num_epochs,modellrp)\n",
        "# test_model()\n"
      ]
    },
    {
      "cell_type": "code",
      "execution_count": null,
      "metadata": {
        "colab": {
          "base_uri": "https://localhost:8080/"
        },
        "id": "LjnBxr54xhFQ",
        "outputId": "1aa137f0-1bbf-4e20-e4c0-5edba76d5e1e"
      },
      "outputs": [
        {
          "name": "stdout",
          "output_type": "stream",
          "text": [
            "Test Loss: 0.0944, Test Accuracy: 97.50%\n"
          ]
        }
      ],
      "source": [
        "def test_model(model):\n",
        "    test_loss = 0.0\n",
        "    correct = 0\n",
        "    total = 0\n",
        "    with torch.no_grad():\n",
        "        model.eval()\n",
        "        for images, labels in test_loader:\n",
        "            if train_on_gpu:\n",
        "                images, labels = images.cuda(), labels.cuda()\n",
        "            outputs = model(images)\n",
        "            loss = criterion(outputs, labels)\n",
        "            test_loss += loss.item() * images.size(0)\n",
        "            _, predicted = torch.max(outputs.data, 1)\n",
        "            total += labels.size(0)\n",
        "            correct += (predicted == labels).sum().item()\n",
        "\n",
        "    test_loss = test_loss / len(test_loader.dataset)\n",
        "    accuracy = (correct / total) * 100\n",
        "    print(f'Test Loss: {test_loss:.4f}, Test Accuracy: {accuracy:.2f}%')\n",
        "test_model(modellrp)"
      ]
    }
  ],
  "metadata": {
    "accelerator": "GPU",
    "colab": {
      "provenance": []
    },
    "kernelspec": {
      "display_name": "Python 3 (ipykernel)",
      "language": "python",
      "name": "python3"
    },
    "language_info": {
      "codemirror_mode": {
        "name": "ipython",
        "version": 3
      },
      "file_extension": ".py",
      "mimetype": "text/x-python",
      "name": "python",
      "nbconvert_exporter": "python",
      "pygments_lexer": "ipython3",
      "version": "3.11.5"
    }
  },
  "nbformat": 4,
  "nbformat_minor": 0
}